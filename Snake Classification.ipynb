{
 "cells": [
  {
   "cell_type": "markdown",
   "metadata": {},
   "source": [
    "# Snake Species Identification Challenge"
   ]
  },
  {
   "cell_type": "markdown",
   "metadata": {},
   "source": [
    "This notebook offers a possible solution to the challenge proposed by crowdAI (https://www.aicrowd.com/challenges/snake-species-identification-challenge). This notebook is intended to finetune a network (ResNet50) to perform snake species classification.\n"
   ]
  },
  {
   "cell_type": "code",
   "execution_count": 1,
   "metadata": {},
   "outputs": [
    {
     "name": "stdout",
     "output_type": "stream",
     "text": [
      "cuda\n",
      "Device: Tesla K80\n"
     ]
    }
   ],
   "source": [
    "import torch\n",
    "import torchvision\n",
    "import torch.utils.data as data\n",
    "import torchvision.transforms as transforms\n",
    "import torch.nn as nn\n",
    "import tensorboardX\n",
    "import numpy as np\n",
    "from sklearn.metrics import f1_score\n",
    "import os\n",
    "import copy\n",
    "import fastai\n",
    "\n",
    "# train on the GPU or on the CPU, if a GPU is not available\n",
    "device = torch.device('cuda') if torch.cuda.is_available() else torch.device('cpu')\n",
    "print(device)\n",
    "print(\"Device: \" + str(torch.cuda.get_device_name(0)))"
   ]
  },
  {
   "cell_type": "markdown",
   "metadata": {},
   "source": [
    "### Dataset Preparation\n",
    "\n",
    "__WARNING: This script assumes that the dataset has been previously splitted. This process is done by the script split_dataset.py, provided in the repository. Before running this script, run split_dataset.py__"
   ]
  },
  {
   "cell_type": "markdown",
   "metadata": {},
   "source": [
    "Once the dataset is splitted, we proceed to create the training and validation datasets. Since we are dealing with images, we can take advantage of the ImageFolder class that torchvision provides.\n",
    "\n",
    "#### Datasets & Dataloaders"
   ]
  },
  {
   "cell_type": "code",
   "execution_count": 2,
   "metadata": {},
   "outputs": [
    {
     "name": "stderr",
     "output_type": "stream",
     "text": [
      "/opt/anaconda3/lib/python3.7/site-packages/torchvision/transforms/transforms.py:691: UserWarning: The use of the transforms.RandomSizedCrop transform is deprecated, please use transforms.RandomResizedCrop instead.\n",
      "  warnings.warn(\"The use of the transforms.RandomSizedCrop transform is deprecated, \" +\n"
     ]
    }
   ],
   "source": [
    "train_dir = '/home/user/snakes/train/'\n",
    "validation_dir = '/home/user/snakes/validation/'\n",
    "\n",
    "# Define training parameters \n",
    "size_batch = 32\n",
    "\n",
    "# Like Albert Pumarola said in class, normalize data\n",
    "normalize = transforms.Normalize(mean=[0.485, 0.456, 0.406],std=[0.229, 0.224, 0.225])\n",
    "\n",
    "# Define datasets\n",
    "training_set = torchvision.datasets.ImageFolder(train_dir, transforms.Compose([transforms.RandomSizedCrop(224),transforms.RandomHorizontalFlip(),transforms.ToTensor(),normalize]))\n",
    "validation_set = torchvision.datasets.ImageFolder(validation_dir, transforms.Compose([transforms.RandomSizedCrop(224),transforms.RandomHorizontalFlip(),transforms.ToTensor(),normalize]))\n",
    "                                    \n",
    "# Define dataloaders                               \n",
    "train_loader = torch.utils.data.DataLoader(training_set, batch_size=size_batch, shuffle=True, num_workers=2, pin_memory=True)\n",
    "val_loader = torch.utils.data.DataLoader(validation_set, batch_size=size_batch, shuffle=True, num_workers=2, pin_memory=True)"
   ]
  },
  {
   "cell_type": "markdown",
   "metadata": {},
   "source": [
    "Now that datasets and dataloaders are defined, we define the loss function. As we are  tackling a classification problem, we use cross entropy loss. Moreover, we have an unbalanced dataset, so we weight this cross entropy loss according to each class. This weights are computed in the following way:"
   ]
  },
  {
   "cell_type": "code",
   "execution_count": 3,
   "metadata": {},
   "outputs": [
    {
     "name": "stdout",
     "output_type": "stream",
     "text": [
      "Number of classes C = 45\n",
      "Weights provided to the loss:\n",
      "tensor([0.0280, 0.0333, 0.0167, 0.0148, 0.0022, 0.0369, 0.0429, 0.0391, 0.0072,\n",
      "        0.0116, 0.0108, 0.0202, 0.0166, 0.0097, 0.0249, 0.0179, 0.0121, 0.0397,\n",
      "        0.0182, 0.0236, 0.0181, 0.0470, 0.0130, 0.0248, 0.0473, 0.0210, 0.0114,\n",
      "        0.0349, 0.0233, 0.0261, 0.0078, 0.0054, 0.0217, 0.0293, 0.0420, 0.0045,\n",
      "        0.0116, 0.0482, 0.0098, 0.0274, 0.0141, 0.0220, 0.0045, 0.0416, 0.0169],\n",
      "       device='cuda:0')\n"
     ]
    }
   ],
   "source": [
    "C = len(training_set.classes)\n",
    "number_of_training_samples = len(training_set)\n",
    "print(\"Number of classes C = \" + str(C))\n",
    "class_balance = torch.empty(C)\n",
    "i=0\n",
    "for cl in training_set.classes:\n",
    "    # We want to penalize more the classes that are less frequent\n",
    "    class_balance[i] = 1/len(os.listdir(os.path.join(train_dir, cl)))/number_of_training_samples\n",
    "    i += 1\n",
    "\n",
    "normalization_factor = class_balance.sum()\n",
    "class_balance /= normalization_factor\n",
    "class_balance = class_balance.to(device)\n",
    "\n",
    "print(\"Weights provided to the loss:\")\n",
    "print(class_balance)\n",
    "\n",
    "criterion = nn.CrossEntropyLoss(weight=class_balance)"
   ]
  },
  {
   "cell_type": "markdown",
   "metadata": {},
   "source": [
    "### Model\n",
    "Now let us build the model, I am using a ResNet50, which achieves a good accuracy in ImageNet dataset and has a number of parameters relatively low. We also set the layers that will be retrained, setting their requires_grad attribute to True."
   ]
  },
  {
   "cell_type": "code",
   "execution_count": 4,
   "metadata": {},
   "outputs": [
    {
     "name": "stdout",
     "output_type": "stream",
     "text": [
      "Finetuning. All layers will be retrained.\n"
     ]
    }
   ],
   "source": [
    "model = torchvision.models.resnet50(pretrained=True, progress=True)\n",
    "\n",
    "num_ftrs = model.fc.in_features\n",
    "# Change the last layer to classify 45 classes instead of 1000\n",
    "model.fc = nn.Linear(num_ftrs, C)\n",
    "\n",
    "# Now let us set which layers we will train in the case of feature extraction\n",
    "layers_to_train = ['fc.weight','fc.bias']\n",
    "feature_extract = False\n",
    "\n",
    "if feature_extract:\n",
    "    print(\"Feature Extraction. The layers that will be retrained are:\")\n",
    "    for name,param in model.named_parameters():\n",
    "        #print(name)\n",
    "        if(name in layers_to_train):\n",
    "            param.requires_grad = True\n",
    "            print(\"\\t\",name)\n",
    "        else: \n",
    "            param.requires_grad = False\n",
    "else:\n",
    "    print(\"Finetuning. All layers will be retrained.\")\n",
    "    for name,param in model.named_parameters():        \n",
    "        param.requires_grad = True"
   ]
  },
  {
   "cell_type": "code",
   "execution_count": 5,
   "metadata": {},
   "outputs": [],
   "source": [
    "# Construct an optimizer\n",
    "params = [p for p in model.parameters() if p.requires_grad]\n",
    "\n",
    "optimizer = torch.optim.Adam(params, lr=3e-4)\n",
    "# Construct a learning rate scheduler\n",
    "lr_scheduler = torch.optim.lr_scheduler.StepLR(optimizer, step_size=3, gamma=0.1)"
   ]
  },
  {
   "cell_type": "markdown",
   "metadata": {},
   "source": [
    "In order to see if our model can solve the task, which is the same than checking if our model has enough capacity to solve this kind of problem, we try to overfit a single batch. This process also helps when deciding a batch size, since we will check very quickly the maximum batch size that fits in our GPU memory."
   ]
  },
  {
   "cell_type": "code",
   "execution_count": 8,
   "metadata": {},
   "outputs": [],
   "source": [
    "def overfit_1_batch(model, dataloaders, criterion, optimizer, device, num_epochs=25):\n",
    "    # We load 1 batch only\n",
    "    inputs, labels = next(iter(dataloaders['train']))\n",
    "    \n",
    "    for epoch in range(num_epochs):\n",
    "        print('Epoch {}/{}'.format(epoch, num_epochs - 1))\n",
    "        print('-' * 10)\n",
    "\n",
    "        for phase in ['train']:\n",
    "            if phase == 'train':\n",
    "                model.train()  # Set model to training mode\n",
    "\n",
    "            running_loss = 0.0\n",
    "            running_corrects = 0\n",
    "                \n",
    "            inputs = inputs.to(device)\n",
    "            labels = labels.to(device)\n",
    "\n",
    "            # zero the parameter gradients\n",
    "            optimizer.zero_grad()\n",
    "\n",
    "            # forward\n",
    "            # track history if only in train\n",
    "            with torch.set_grad_enabled(phase == 'train'):\n",
    "                # Get model outputs and calculate \n",
    "                outputs = model(inputs)\n",
    "                loss = criterion(outputs, labels)\n",
    "\n",
    "                _, preds = torch.max(outputs, 1)\n",
    "\n",
    "                # backward + optimize only if in training phase\n",
    "                if phase == 'train':\n",
    "                    loss.backward()\n",
    "                    optimizer.step()\n",
    "\n",
    "            # statistics\n",
    "            # Compute F1-score\n",
    "            labels_cpu = labels.cpu().numpy()\n",
    "            predictions_cpu = preds.cpu().numpy()\n",
    "            F_score = f1_score(labels_cpu, predictions_cpu, average='macro') \n",
    "            running_loss += loss.item() * inputs.size(0)\n",
    "            running_corrects += torch.sum(preds == labels.data)\n",
    "\n",
    "            epoch_loss = running_loss / size_batch\n",
    "            epoch_acc = running_corrects.double() / size_batch\n",
    "            print('{} Loss: {:.4f} Acc: {:.4f} F: {:.3f}'.format(phase, epoch_loss, epoch_acc, F_score))\n",
    "\n",
    "            \n",
    "        print()"
   ]
  },
  {
   "cell_type": "code",
   "execution_count": 9,
   "metadata": {},
   "outputs": [
    {
     "name": "stdout",
     "output_type": "stream",
     "text": [
      "Epoch 0/49\n",
      "----------\n",
      "train Loss: 8.0429 Acc: 0.1562 F: 0.083\n",
      "\n",
      "Epoch 1/49\n",
      "----------\n",
      "train Loss: 5.7367 Acc: 0.2188 F: 0.172\n",
      "\n",
      "Epoch 2/49\n",
      "----------\n",
      "train Loss: 4.0705 Acc: 0.3750 F: 0.328\n",
      "\n",
      "Epoch 3/49\n",
      "----------\n",
      "train Loss: 2.9926 Acc: 0.4375 F: 0.434\n",
      "\n",
      "Epoch 4/49\n",
      "----------\n",
      "train Loss: 2.2531 Acc: 0.4688 F: 0.427\n",
      "\n",
      "Epoch 5/49\n",
      "----------\n",
      "train Loss: 1.6225 Acc: 0.6250 F: 0.648\n",
      "\n",
      "Epoch 6/49\n",
      "----------\n",
      "train Loss: 1.0393 Acc: 0.6875 F: 0.665\n",
      "\n",
      "Epoch 7/49\n",
      "----------\n",
      "train Loss: 0.6584 Acc: 0.8750 F: 0.882\n",
      "\n",
      "Epoch 8/49\n",
      "----------\n",
      "train Loss: 0.4369 Acc: 0.9375 F: 0.931\n",
      "\n",
      "Epoch 9/49\n",
      "----------\n",
      "train Loss: 0.2671 Acc: 0.9375 F: 0.931\n",
      "\n",
      "Epoch 10/49\n",
      "----------\n",
      "train Loss: 0.1465 Acc: 1.0000 F: 1.000\n",
      "\n",
      "Epoch 11/49\n",
      "----------\n",
      "train Loss: 0.0799 Acc: 1.0000 F: 1.000\n",
      "\n",
      "Epoch 12/49\n",
      "----------\n",
      "train Loss: 0.0486 Acc: 1.0000 F: 1.000\n",
      "\n",
      "Epoch 13/49\n",
      "----------\n",
      "train Loss: 0.0324 Acc: 1.0000 F: 1.000\n",
      "\n",
      "Epoch 14/49\n",
      "----------\n",
      "train Loss: 0.0240 Acc: 1.0000 F: 1.000\n",
      "\n",
      "Epoch 15/49\n",
      "----------\n",
      "train Loss: 0.0196 Acc: 1.0000 F: 1.000\n",
      "\n",
      "Epoch 16/49\n",
      "----------\n",
      "train Loss: 0.0167 Acc: 1.0000 F: 1.000\n",
      "\n",
      "Epoch 17/49\n",
      "----------\n",
      "train Loss: 0.0142 Acc: 1.0000 F: 1.000\n",
      "\n",
      "Epoch 18/49\n",
      "----------\n",
      "train Loss: 0.0118 Acc: 1.0000 F: 1.000\n",
      "\n",
      "Epoch 19/49\n",
      "----------\n",
      "train Loss: 0.0096 Acc: 1.0000 F: 1.000\n",
      "\n",
      "Epoch 20/49\n",
      "----------\n",
      "train Loss: 0.0078 Acc: 1.0000 F: 1.000\n",
      "\n",
      "Epoch 21/49\n",
      "----------\n",
      "train Loss: 0.0064 Acc: 1.0000 F: 1.000\n",
      "\n",
      "Epoch 22/49\n",
      "----------\n",
      "train Loss: 0.0054 Acc: 1.0000 F: 1.000\n",
      "\n",
      "Epoch 23/49\n",
      "----------\n",
      "train Loss: 0.0046 Acc: 1.0000 F: 1.000\n",
      "\n",
      "Epoch 24/49\n",
      "----------\n",
      "train Loss: 0.0040 Acc: 1.0000 F: 1.000\n",
      "\n",
      "Epoch 25/49\n",
      "----------\n",
      "train Loss: 0.0035 Acc: 1.0000 F: 1.000\n",
      "\n",
      "Epoch 26/49\n",
      "----------\n",
      "train Loss: 0.0032 Acc: 1.0000 F: 1.000\n",
      "\n",
      "Epoch 27/49\n",
      "----------\n",
      "train Loss: 0.0028 Acc: 1.0000 F: 1.000\n",
      "\n",
      "Epoch 28/49\n",
      "----------\n",
      "train Loss: 0.0025 Acc: 1.0000 F: 1.000\n",
      "\n",
      "Epoch 29/49\n",
      "----------\n",
      "train Loss: 0.0023 Acc: 1.0000 F: 1.000\n",
      "\n",
      "Epoch 30/49\n",
      "----------\n",
      "train Loss: 0.0020 Acc: 1.0000 F: 1.000\n",
      "\n",
      "Epoch 31/49\n",
      "----------\n",
      "train Loss: 0.0018 Acc: 1.0000 F: 1.000\n",
      "\n",
      "Epoch 32/49\n",
      "----------\n",
      "train Loss: 0.0017 Acc: 1.0000 F: 1.000\n",
      "\n",
      "Epoch 33/49\n",
      "----------\n",
      "train Loss: 0.0015 Acc: 1.0000 F: 1.000\n",
      "\n",
      "Epoch 34/49\n",
      "----------\n",
      "train Loss: 0.0014 Acc: 1.0000 F: 1.000\n",
      "\n",
      "Epoch 35/49\n",
      "----------\n",
      "train Loss: 0.0013 Acc: 1.0000 F: 1.000\n",
      "\n",
      "Epoch 36/49\n",
      "----------\n",
      "train Loss: 0.0012 Acc: 1.0000 F: 1.000\n",
      "\n",
      "Epoch 37/49\n",
      "----------\n",
      "train Loss: 0.0011 Acc: 1.0000 F: 1.000\n",
      "\n",
      "Epoch 38/49\n",
      "----------\n",
      "train Loss: 0.0010 Acc: 1.0000 F: 1.000\n",
      "\n",
      "Epoch 39/49\n",
      "----------\n",
      "train Loss: 0.0010 Acc: 1.0000 F: 1.000\n",
      "\n",
      "Epoch 40/49\n",
      "----------\n",
      "train Loss: 0.0009 Acc: 1.0000 F: 1.000\n",
      "\n",
      "Epoch 41/49\n",
      "----------\n",
      "train Loss: 0.0009 Acc: 1.0000 F: 1.000\n",
      "\n",
      "Epoch 42/49\n",
      "----------\n",
      "train Loss: 0.0008 Acc: 1.0000 F: 1.000\n",
      "\n",
      "Epoch 43/49\n",
      "----------\n",
      "train Loss: 0.0008 Acc: 1.0000 F: 1.000\n",
      "\n",
      "Epoch 44/49\n",
      "----------\n",
      "train Loss: 0.0007 Acc: 1.0000 F: 1.000\n",
      "\n",
      "Epoch 45/49\n",
      "----------\n",
      "train Loss: 0.0007 Acc: 1.0000 F: 1.000\n",
      "\n",
      "Epoch 46/49\n",
      "----------\n",
      "train Loss: 0.0007 Acc: 1.0000 F: 1.000\n",
      "\n",
      "Epoch 47/49\n",
      "----------\n",
      "train Loss: 0.0007 Acc: 1.0000 F: 1.000\n",
      "\n",
      "Epoch 48/49\n",
      "----------\n",
      "train Loss: 0.0006 Acc: 1.0000 F: 1.000\n",
      "\n",
      "Epoch 49/49\n",
      "----------\n",
      "train Loss: 0.0006 Acc: 1.0000 F: 1.000\n",
      "\n"
     ]
    }
   ],
   "source": [
    "dataloaders_dict = {'train':train_loader, 'val':val_loader}\n",
    "model = model.to(device)\n",
    "overfit_1_batch(model, dataloaders_dict, criterion, optimizer, device,num_epochs=50)"
   ]
  },
  {
   "cell_type": "markdown",
   "metadata": {},
   "source": [
    "### TRAINING\n"
   ]
  },
  {
   "cell_type": "code",
   "execution_count": 10,
   "metadata": {},
   "outputs": [],
   "source": [
    "def train_model(model, dataloaders, criterion, optimizer, device, num_epochs=25):\n",
    "    \n",
    "    val_acc_history = []\n",
    "    \n",
    "    best_model_wts = copy.deepcopy(model.state_dict())\n",
    "    best_acc = 0.0\n",
    "    best_fscore = 0.0\n",
    "    for epoch in range(num_epochs):\n",
    "        print('Epoch {}/{}'.format(epoch, num_epochs - 1))\n",
    "        print('-' * 10)\n",
    "\n",
    "        # Each epoch has a training and validation phase\n",
    "        for phase in ['train', 'val']:\n",
    "            if phase == 'train':\n",
    "                model.train()  # Set model to training mode\n",
    "            else:\n",
    "                model.eval()   # Set model to evaluate mode\n",
    "\n",
    "            running_loss = 0.0\n",
    "            running_corrects = 0\n",
    "            f_score_list = []\n",
    "            # Iterate over data.\n",
    "            for inputs, labels in dataloaders[phase]:\n",
    "                \n",
    "                inputs = inputs.to(device)\n",
    "                labels = labels.to(device)\n",
    "    \n",
    "                # zero the parameter gradients\n",
    "                optimizer.zero_grad()\n",
    "\n",
    "                # forward\n",
    "                # track history if only in train\n",
    "                with torch.set_grad_enabled(phase == 'train'):\n",
    "                    # Get model outputs and calculate \n",
    "                    outputs = model(inputs)\n",
    "                    loss = criterion(outputs, labels)\n",
    "\n",
    "                    _, preds = torch.max(outputs, 1)\n",
    "\n",
    "                    # backward + optimize only if in training phase\n",
    "                    if phase == 'train':\n",
    "                        loss.backward()\n",
    "                        optimizer.step()\n",
    "                   \n",
    "                # statistics\n",
    "                # Compute F1-score\n",
    "                labels_cpu = labels.cpu().numpy()\n",
    "                predictions_cpu = preds.cpu().numpy()\n",
    "                F_score = f1_score(labels_cpu, predictions_cpu, average='macro') \n",
    "                f_score_list.append(F_score)\n",
    "                running_loss += loss.item() * inputs.size(0)\n",
    "                running_corrects += torch.sum(preds == labels.data)\n",
    "            \n",
    "            epoch_loss = running_loss / len(dataloaders[phase].dataset)\n",
    "            epoch_acc = running_corrects.double() / len(dataloaders[phase].dataset)\n",
    "            epoch_f_score = np.average(np.array(f_score_list))\n",
    "            print('{} Loss: {:.4f} Acc: {:.4f} F: {:.3f}'.format(phase, epoch_loss, epoch_acc, epoch_f_score))\n",
    "\n",
    "            # deep copy the model\n",
    "            \n",
    "            if phase == 'val' and epoch_f_score > best_fscore:\n",
    "                best_fscore = epoch_f_score \n",
    "                best_model_wts = copy.deepcopy(model.state_dict())\n",
    "            if phase == 'val':\n",
    "                # Save the model, just in case\n",
    "                torch.save(model.state_dict(), '/home/user/finetuning/resnet50_snakes_Ep_{}_Acc_{:.3f}_F_{:.3f}.pth'.format(epoch,epoch_acc, epoch_f_score))\n",
    "                val_acc_history.append(epoch_acc)\n",
    "\n",
    "        print()\n",
    "    \n",
    "    print('Best val Acc: {:4f}'.format(best_acc))\n",
    "\n",
    "    # load best model weights\n",
    "    model.load_state_dict(best_model_wts)\n",
    "    return model, val_acc_history"
   ]
  },
  {
   "cell_type": "code",
   "execution_count": null,
   "metadata": {},
   "outputs": [
    {
     "name": "stdout",
     "output_type": "stream",
     "text": [
      "Epoch 0/0\n",
      "----------\n",
      "train Loss: 2.9063 Acc: 0.2690 F: 0.196\n"
     ]
    }
   ],
   "source": [
    "dataloaders_dict = {'train':train_loader, 'val':val_loader}\n",
    "model = model.to(device)\n",
    "\n",
    "# Train and evaluate\n",
    "model, hist = train_model(model, dataloaders_dict, criterion, optimizer, device,num_epochs=30)\n",
    "\n"
   ]
  },
  {
   "cell_type": "markdown",
   "metadata": {},
   "source": [
    "Although the code for the training process is shown above, the network has not been trained using jupyter notebook because it makes a bad memory management. In addition, if we run a script from the terminal we can use tmux, which is useful if we have to do some parallel tasks. The learning curves of this model are shown below, the numbers for this curves have been obtained from printings during the training process, this is not a very elegant solution, we could have used tensorboardX, but its configuration with gcloud is difficult and time consuming. Thus, this is a faster way to plot and visualize results.\n",
    "\n",
    "### RESULTS VISUALIZATION"
   ]
  },
  {
   "cell_type": "code",
   "execution_count": 11,
   "metadata": {},
   "outputs": [],
   "source": [
    "train_loss = [2.6121, 2.1316,1.9262,1.8072,1.7091,1.6228,1.5566,1.5019,1.4486,1.4124,1.3743,1.3379,1.2909,1.2642,1.2433,1.2069,1.1903,1.1561,1.1385,1.1192,1.0942,1.0683,1.0529,1.0254,1.0105,0.9969,0.9849,0.9563,0.9572,0.9380] \n",
    "val_loss = [2.2460,2.0373,1.9521,1.7314,1.7178,1.6337,1.5741,1.6262,1.5200,1.5180,1.4670,1.5097,1.4558,1.3946,1.3635,1.3748,1.3581,1.3776,1.3397,1.3186,1.3167,1.3140,1.3300,1.3118,1.2806,1.3331,1.2982,1.2715,1.3114,1.3013]\n",
    "train_acc = [0.2586,0.3582,0.4064,0.4357,0.4614,0.4796,0.5026,0.5151,0.5304,0.5424,0.5506,0.5609,0.5718,0.578,0.5862,0.5913,0.5957,0.6045,0.6114,0.6156,0.6221,0.6297,0.6309,0.6395,0.6448,0.6468,0.6491,0.6597,0.6591,0.6632]\n",
    "val_acc = [0.3371,0.3809,0.4050,0.4461,0.4439,0.4888,0.4986,0.5061,0.5268,0.5185,0.5283,0.5345,0.5241,0.5599,0.5754,0.5203,0.5629,0.5924,0.5898,0.5975,0.5847,0.6076,0.5869,0.5880,0.6081,0.5919,0.5955,0.6206,0.6090,0.6200]\n",
    "train_F = [0.179,0.256,0.295,0.321,0.343,0.359,0.378,0.388,0.401,0.413,0.421,0.432,0.442,0.448,0.456,0.461,0.464,0.475,0.481,0.486,0.491,0.5,0.502,0.511,0.516,0.519,0.52,0.532,0.533,0.534]\n",
    "val_F = [0.234,0.274,0.295,0.329,0.324,0.366,0.372,0.381,0.397,0.396,0.396,0.402,0.402,0.431,0.444,0.404,0.436,0.452,0.457,0.458,0.453,0.466,0.456,0.452,0.470,0.453,0.464,0.483,0.472,0.479]"
   ]
  },
  {
   "cell_type": "code",
   "execution_count": 12,
   "metadata": {},
   "outputs": [
    {
     "data": {
      "text/plain": [
       "<matplotlib.legend.Legend at 0x7ff643928320>"
      ]
     },
     "execution_count": 12,
     "metadata": {},
     "output_type": "execute_result"
    },
    {
     "data": {
      "image/png": "[encoded data removed]",
      "text/plain": [
       "<Figure size 432x288 with 1 Axes>"
      ]
     },
     "metadata": {
      "needs_background": "light"
     },
     "output_type": "display_data"
    }
   ],
   "source": [
    "import matplotlib.pyplot as plt\n",
    "import pylab\n",
    "pylab.grid()\n",
    "pylab.xlabel('Epochs', fontsize=16)\n",
    "pylab.ylabel('Loss', fontsize=16)\n",
    "t_l, = pylab.plot(range(30), train_loss,'-b', label=\"Training Loss\")\n",
    "v_l, = pylab.plot(range(30),val_loss, '-r',label=\"Validation Loss\")\n",
    "pylab.legend()\n"
   ]
  },
  {
   "cell_type": "code",
   "execution_count": 13,
   "metadata": {},
   "outputs": [
    {
     "data": {
      "text/plain": [
       "<matplotlib.legend.Legend at 0x7ff643a9eda0>"
      ]
     },
     "execution_count": 13,
     "metadata": {},
     "output_type": "execute_result"
    },
    {
     "data": {
      "image/png": "[encoded data removed]",
      "text/plain": [
       "<Figure size 432x288 with 1 Axes>"
      ]
     },
     "metadata": {
      "needs_background": "light"
     },
     "output_type": "display_data"
    }
   ],
   "source": [
    "pylab.grid()\n",
    "pylab.xlabel('Epochs', fontsize=16)\n",
    "pylab.ylabel('Accuracy', fontsize=16)\n",
    "t_l, = pylab.plot(range(30), train_acc,'-b', label=\"Training Acc\")\n",
    "v_l, = pylab.plot(range(30),val_acc, '-r',label=\"Validation Acc\")\n",
    "pylab.legend()"
   ]
  },
  {
   "cell_type": "code",
   "execution_count": 14,
   "metadata": {},
   "outputs": [
    {
     "data": {
      "text/plain": [
       "<matplotlib.legend.Legend at 0x7ff643a1de80>"
      ]
     },
     "execution_count": 14,
     "metadata": {},
     "output_type": "execute_result"
    },
    {
     "data": {
      "image/png": "[encoded data removed]",
      "text/plain": [
       "<Figure size 432x288 with 1 Axes>"
      ]
     },
     "metadata": {
      "needs_background": "light"
     },
     "output_type": "display_data"
    }
   ],
   "source": [
    "pylab.grid()\n",
    "pylab.xlabel('Epochs', fontsize=16)\n",
    "pylab.ylabel('F score', fontsize=16)\n",
    "t_l, = pylab.plot(range(30), train_F,'-b', label=\"Training F score\")\n",
    "v_l, = pylab.plot(range(30),val_F, '-r',label=\"Validation F score\")\n",
    "pylab.legend()"
   ]
  },
  {
   "cell_type": "markdown",
   "metadata": {},
   "source": [
    "### CONCLUSION\n",
    "\n",
    "From these charts we can derive that the model we should choose to perform the task is the model from epoch 27, that achieves an accuracy of 62 % and F score 0.483. However, I think that these results can be improved so I will try applying dropout in the following notebook: Snake Classification-Dropout."
   ]
  }
 ],
 "metadata": {
  "kernelspec": {
   "display_name": "Python 3",
   "language": "python",
   "name": "python3"
  },
  "language_info": {
   "codemirror_mode": {
    "name": "ipython",
    "version": 3
   },
   "file_extension": ".py",
   "mimetype": "text/x-python",
   "name": "python",
   "nbconvert_exporter": "python",
   "pygments_lexer": "ipython3",
   "version": "3.7.0"
  }
 },
 "nbformat": 4,
 "nbformat_minor": 2
}
